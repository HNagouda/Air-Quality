{
 "cells": [
  {
   "cell_type": "code",
   "execution_count": 39,
   "metadata": {},
   "outputs": [],
   "source": [
    "# Basic Libraries\n",
    "import numpy as np \n",
    "import pandas as pd\n",
    "import seaborn as sns\n",
    "import matplotlib.pyplot as plt \n",
    "\n",
    "# Metrics\n",
    "from sklearn.metrics import accuracy_score\n",
    "from sklearn.preprocessing import LabelEncoder\n",
    "from sklearn.model_selection import train_test_split\n",
    "\n",
    "# ML Models\n",
    "from xgboost import XGBRegressor\n",
    "from lightgbm import LGBMRegressor"
   ]
  },
  {
   "cell_type": "code",
   "execution_count": 21,
   "metadata": {},
   "outputs": [
    {
     "output_type": "display_data",
     "data": {
      "text/plain": "        Date      Time  CO(GT)  PT08.S1(CO)  NMHC(GT)   C6H6(GT)  \\\n0 2004-03-10  18:00:00     2.6      1360.00       150  11.881723   \n1 2004-03-10  19:00:00     2.0      1292.25       112   9.397165   \n2 2004-03-10  20:00:00     2.2      1402.00        88   8.997817   \n3 2004-03-10  21:00:00     2.2      1375.50        80   9.228796   \n4 2004-03-10  22:00:00     1.6      1272.25        51   6.518224   \n\n   PT08.S2(NMHC)  NOx(GT)  PT08.S3(NOx)  NO2(GT)  PT08.S4(NO2)  PT08.S5(O3)  \\\n0        1045.50    166.0       1056.25    113.0       1692.00      1267.50   \n1         954.75    103.0       1173.75     92.0       1558.75       972.25   \n2         939.25    131.0       1140.00    114.0       1554.50      1074.00   \n3         948.25    172.0       1092.00    122.0       1583.75      1203.25   \n4         835.50    131.0       1205.00    116.0       1490.00      1110.00   \n\n       T         RH        AH  \n0  13.60  48.875001  0.757754  \n1  13.30  47.700000  0.725487  \n2  11.90  53.975000  0.750239  \n3  11.00  60.000000  0.786713  \n4  11.15  59.575001  0.788794  ",
      "text/html": "<div>\n<style scoped>\n    .dataframe tbody tr th:only-of-type {\n        vertical-align: middle;\n    }\n\n    .dataframe tbody tr th {\n        vertical-align: top;\n    }\n\n    .dataframe thead th {\n        text-align: right;\n    }\n</style>\n<table border=\"1\" class=\"dataframe\">\n  <thead>\n    <tr style=\"text-align: right;\">\n      <th></th>\n      <th>Date</th>\n      <th>Time</th>\n      <th>CO(GT)</th>\n      <th>PT08.S1(CO)</th>\n      <th>NMHC(GT)</th>\n      <th>C6H6(GT)</th>\n      <th>PT08.S2(NMHC)</th>\n      <th>NOx(GT)</th>\n      <th>PT08.S3(NOx)</th>\n      <th>NO2(GT)</th>\n      <th>PT08.S4(NO2)</th>\n      <th>PT08.S5(O3)</th>\n      <th>T</th>\n      <th>RH</th>\n      <th>AH</th>\n    </tr>\n  </thead>\n  <tbody>\n    <tr>\n      <th>0</th>\n      <td>2004-03-10</td>\n      <td>18:00:00</td>\n      <td>2.6</td>\n      <td>1360.00</td>\n      <td>150</td>\n      <td>11.881723</td>\n      <td>1045.50</td>\n      <td>166.0</td>\n      <td>1056.25</td>\n      <td>113.0</td>\n      <td>1692.00</td>\n      <td>1267.50</td>\n      <td>13.60</td>\n      <td>48.875001</td>\n      <td>0.757754</td>\n    </tr>\n    <tr>\n      <th>1</th>\n      <td>2004-03-10</td>\n      <td>19:00:00</td>\n      <td>2.0</td>\n      <td>1292.25</td>\n      <td>112</td>\n      <td>9.397165</td>\n      <td>954.75</td>\n      <td>103.0</td>\n      <td>1173.75</td>\n      <td>92.0</td>\n      <td>1558.75</td>\n      <td>972.25</td>\n      <td>13.30</td>\n      <td>47.700000</td>\n      <td>0.725487</td>\n    </tr>\n    <tr>\n      <th>2</th>\n      <td>2004-03-10</td>\n      <td>20:00:00</td>\n      <td>2.2</td>\n      <td>1402.00</td>\n      <td>88</td>\n      <td>8.997817</td>\n      <td>939.25</td>\n      <td>131.0</td>\n      <td>1140.00</td>\n      <td>114.0</td>\n      <td>1554.50</td>\n      <td>1074.00</td>\n      <td>11.90</td>\n      <td>53.975000</td>\n      <td>0.750239</td>\n    </tr>\n    <tr>\n      <th>3</th>\n      <td>2004-03-10</td>\n      <td>21:00:00</td>\n      <td>2.2</td>\n      <td>1375.50</td>\n      <td>80</td>\n      <td>9.228796</td>\n      <td>948.25</td>\n      <td>172.0</td>\n      <td>1092.00</td>\n      <td>122.0</td>\n      <td>1583.75</td>\n      <td>1203.25</td>\n      <td>11.00</td>\n      <td>60.000000</td>\n      <td>0.786713</td>\n    </tr>\n    <tr>\n      <th>4</th>\n      <td>2004-03-10</td>\n      <td>22:00:00</td>\n      <td>1.6</td>\n      <td>1272.25</td>\n      <td>51</td>\n      <td>6.518224</td>\n      <td>835.50</td>\n      <td>131.0</td>\n      <td>1205.00</td>\n      <td>116.0</td>\n      <td>1490.00</td>\n      <td>1110.00</td>\n      <td>11.15</td>\n      <td>59.575001</td>\n      <td>0.788794</td>\n    </tr>\n  </tbody>\n</table>\n</div>"
     },
     "metadata": {}
    }
   ],
   "source": [
    "filepath_csv = \"C:/Users/prabh/Desktop/Python/Datasets/Air Quality/AirQualityUCI.csv\"\n",
    "df = pd.read_excel(filepath_xlsx)\n",
    "display(df.head())"
   ]
  },
  {
   "cell_type": "code",
   "execution_count": 22,
   "metadata": {
    "tags": []
   },
   "outputs": [
    {
     "output_type": "stream",
     "name": "stdout",
     "text": "Index(['Date', 'Time', 'CO(GT)', 'PT08.S1(CO)', 'NMHC(GT)', 'C6H6(GT)',\n       'PT08.S2(NMHC)', 'NOx(GT)', 'PT08.S3(NOx)', 'NO2(GT)', 'PT08.S4(NO2)',\n       'PT08.S5(O3)', 'T', 'RH', 'AH'],\n      dtype='object')\n"
    }
   ],
   "source": [
    "print(df.columns)"
   ]
  },
  {
   "cell_type": "code",
   "execution_count": 23,
   "metadata": {},
   "outputs": [],
   "source": [
    "unwanted_features = ['Time', 'PT08.S1(CO)', 'PT08.S2(NMHC)', 'PT08.S3(NOx)', 'PT08.S4(NO2)', 'PT08.S5(O3)']"
   ]
  },
  {
   "cell_type": "code",
   "execution_count": 25,
   "metadata": {},
   "outputs": [],
   "source": [
    "# # RUN ONLY ONCE! DO NOT RERUN/EDIT\n",
    "\n",
    "# df = df.drop(unwanted_features, axis=1)"
   ]
  },
  {
   "cell_type": "code",
   "execution_count": 26,
   "metadata": {},
   "outputs": [
    {
     "output_type": "display_data",
     "data": {
      "text/plain": "        Date  CO(GT)  NMHC(GT)   C6H6(GT)  NOx(GT)  NO2(GT)      T         RH  \\\n0 2004-03-10     2.6       150  11.881723    166.0    113.0  13.60  48.875001   \n1 2004-03-10     2.0       112   9.397165    103.0     92.0  13.30  47.700000   \n2 2004-03-10     2.2        88   8.997817    131.0    114.0  11.90  53.975000   \n3 2004-03-10     2.2        80   9.228796    172.0    122.0  11.00  60.000000   \n4 2004-03-10     1.6        51   6.518224    131.0    116.0  11.15  59.575001   \n\n         AH  \n0  0.757754  \n1  0.725487  \n2  0.750239  \n3  0.786713  \n4  0.788794  ",
      "text/html": "<div>\n<style scoped>\n    .dataframe tbody tr th:only-of-type {\n        vertical-align: middle;\n    }\n\n    .dataframe tbody tr th {\n        vertical-align: top;\n    }\n\n    .dataframe thead th {\n        text-align: right;\n    }\n</style>\n<table border=\"1\" class=\"dataframe\">\n  <thead>\n    <tr style=\"text-align: right;\">\n      <th></th>\n      <th>Date</th>\n      <th>CO(GT)</th>\n      <th>NMHC(GT)</th>\n      <th>C6H6(GT)</th>\n      <th>NOx(GT)</th>\n      <th>NO2(GT)</th>\n      <th>T</th>\n      <th>RH</th>\n      <th>AH</th>\n    </tr>\n  </thead>\n  <tbody>\n    <tr>\n      <th>0</th>\n      <td>2004-03-10</td>\n      <td>2.6</td>\n      <td>150</td>\n      <td>11.881723</td>\n      <td>166.0</td>\n      <td>113.0</td>\n      <td>13.60</td>\n      <td>48.875001</td>\n      <td>0.757754</td>\n    </tr>\n    <tr>\n      <th>1</th>\n      <td>2004-03-10</td>\n      <td>2.0</td>\n      <td>112</td>\n      <td>9.397165</td>\n      <td>103.0</td>\n      <td>92.0</td>\n      <td>13.30</td>\n      <td>47.700000</td>\n      <td>0.725487</td>\n    </tr>\n    <tr>\n      <th>2</th>\n      <td>2004-03-10</td>\n      <td>2.2</td>\n      <td>88</td>\n      <td>8.997817</td>\n      <td>131.0</td>\n      <td>114.0</td>\n      <td>11.90</td>\n      <td>53.975000</td>\n      <td>0.750239</td>\n    </tr>\n    <tr>\n      <th>3</th>\n      <td>2004-03-10</td>\n      <td>2.2</td>\n      <td>80</td>\n      <td>9.228796</td>\n      <td>172.0</td>\n      <td>122.0</td>\n      <td>11.00</td>\n      <td>60.000000</td>\n      <td>0.786713</td>\n    </tr>\n    <tr>\n      <th>4</th>\n      <td>2004-03-10</td>\n      <td>1.6</td>\n      <td>51</td>\n      <td>6.518224</td>\n      <td>131.0</td>\n      <td>116.0</td>\n      <td>11.15</td>\n      <td>59.575001</td>\n      <td>0.788794</td>\n    </tr>\n  </tbody>\n</table>\n</div>"
     },
     "metadata": {}
    }
   ],
   "source": [
    "display(df.head())"
   ]
  },
  {
   "cell_type": "markdown",
   "metadata": {},
   "source": [
    "0. Date (DD/MM/YYYY)\n",
    "1. Time (HH.MM.SS)\n",
    "2. True hourly averaged concentration CO in mg/m^3 (reference analyzer)\n",
    "3. PT08.S1 (tin oxide) hourly averaged sensor response (nominally CO targeted)\n",
    "4. True hourly averaged overall Non Metanic HydroCarbons concentration in microg/m^3 (reference analyzer)\n",
    "5. True hourly averaged Benzene concentration in microg/m^3 (reference analyzer)\n",
    "6. PT08.S2 (titania) hourly averaged sensor response (nominally NMHC targeted)\n",
    "7. True hourly averaged NOx concentration in ppb (reference analyzer)\n",
    "8. PT08.S3 (tungsten oxide) hourly averaged sensor response (nominally NOx targeted)\n",
    "9. True hourly averaged NO2 concentration in microg/m^3 (reference analyzer)\n",
    "10. PT08.S4 (tungsten oxide) hourly averaged sensor response (nominally NO2 targeted)\n",
    "11. PT08.S5 (indium oxide) hourly averaged sensor response (nominally O3 targeted)\n",
    "12. Temperature in Â°C\n",
    "13. Relative Humidity (%)\n",
    "14. AH Absolute Humidity"
   ]
  },
  {
   "cell_type": "code",
   "execution_count": 27,
   "metadata": {},
   "outputs": [],
   "source": [
    "# At the time of creating this project, which was somewhere around late 2019, I had no experience on dealing with date-time\n",
    "# Therefore, the date column is all together dropped\n",
    "\n",
    "df = df.drop(['Date'], axis=1)"
   ]
  },
  {
   "cell_type": "code",
   "execution_count": 28,
   "metadata": {
    "tags": []
   },
   "outputs": [
    {
     "output_type": "stream",
     "name": "stdout",
     "text": "Index(['CO(GT)', 'NMHC(GT)', 'C6H6(GT)', 'NOx(GT)', 'NO2(GT)', 'T', 'RH',\n       'AH'],\n      dtype='object')\n"
    }
   ],
   "source": [
    "print(df.columns)"
   ]
  },
  {
   "cell_type": "code",
   "execution_count": 29,
   "metadata": {},
   "outputs": [
    {
     "output_type": "execute_result",
     "data": {
      "text/plain": "    CO  NMHC       C6H6    NOx    NO2   Temp    Rel_Hum   Abs_Hum\n0  2.6   150  11.881723  166.0  113.0  13.60  48.875001  0.757754\n1  2.0   112   9.397165  103.0   92.0  13.30  47.700000  0.725487\n2  2.2    88   8.997817  131.0  114.0  11.90  53.975000  0.750239\n3  2.2    80   9.228796  172.0  122.0  11.00  60.000000  0.786713\n4  1.6    51   6.518224  131.0  116.0  11.15  59.575001  0.788794",
      "text/html": "<div>\n<style scoped>\n    .dataframe tbody tr th:only-of-type {\n        vertical-align: middle;\n    }\n\n    .dataframe tbody tr th {\n        vertical-align: top;\n    }\n\n    .dataframe thead th {\n        text-align: right;\n    }\n</style>\n<table border=\"1\" class=\"dataframe\">\n  <thead>\n    <tr style=\"text-align: right;\">\n      <th></th>\n      <th>CO</th>\n      <th>NMHC</th>\n      <th>C6H6</th>\n      <th>NOx</th>\n      <th>NO2</th>\n      <th>Temp</th>\n      <th>Rel_Hum</th>\n      <th>Abs_Hum</th>\n    </tr>\n  </thead>\n  <tbody>\n    <tr>\n      <th>0</th>\n      <td>2.6</td>\n      <td>150</td>\n      <td>11.881723</td>\n      <td>166.0</td>\n      <td>113.0</td>\n      <td>13.60</td>\n      <td>48.875001</td>\n      <td>0.757754</td>\n    </tr>\n    <tr>\n      <th>1</th>\n      <td>2.0</td>\n      <td>112</td>\n      <td>9.397165</td>\n      <td>103.0</td>\n      <td>92.0</td>\n      <td>13.30</td>\n      <td>47.700000</td>\n      <td>0.725487</td>\n    </tr>\n    <tr>\n      <th>2</th>\n      <td>2.2</td>\n      <td>88</td>\n      <td>8.997817</td>\n      <td>131.0</td>\n      <td>114.0</td>\n      <td>11.90</td>\n      <td>53.975000</td>\n      <td>0.750239</td>\n    </tr>\n    <tr>\n      <th>3</th>\n      <td>2.2</td>\n      <td>80</td>\n      <td>9.228796</td>\n      <td>172.0</td>\n      <td>122.0</td>\n      <td>11.00</td>\n      <td>60.000000</td>\n      <td>0.786713</td>\n    </tr>\n    <tr>\n      <th>4</th>\n      <td>1.6</td>\n      <td>51</td>\n      <td>6.518224</td>\n      <td>131.0</td>\n      <td>116.0</td>\n      <td>11.15</td>\n      <td>59.575001</td>\n      <td>0.788794</td>\n    </tr>\n  </tbody>\n</table>\n</div>"
     },
     "metadata": {},
     "execution_count": 29
    }
   ],
   "source": [
    "renamed_columns = ['CO', 'NMHC', 'C6H6', 'NOx', 'NO2', 'Temp', 'Rel_Hum', 'Abs_Hum']\n",
    "df.columns = renamed_columns\n",
    "df.head()"
   ]
  },
  {
   "cell_type": "markdown",
   "metadata": {},
   "source": [
    "#. 'Date': Date (DD/MM/YYYY) (Now dropped)\n",
    "\n",
    "\n",
    "0. 'CO': True hourly averaged concentration CO in mg/m^3\n",
    "1. 'NMHC': True hourly averaged overall Non Metanic HydroCarbons concentration in microg/m^3\n",
    "2. 'C6H6': True hourly averaged Benzene concentration in microg/m^3 \n",
    "3. 'NOx': True hourly averaged NOx concentration in ppb \n",
    "4. 'NO2': True hourly averaged NO2 concentration in microg/m^3\n",
    "5. 'Temp': Temperature in Â°C\n",
    "6. 'Rel_Hum': Relative Humidity (%)\n",
    "7. 'Abs_Hum': AH Absolute Humidity"
   ]
  },
  {
   "cell_type": "code",
   "execution_count": 30,
   "metadata": {},
   "outputs": [],
   "source": [
    "# # DO NOT RERUN/EDIT\n",
    "# # This preprocessing step is done to keep all the units same in order to maintain uniformity.\n",
    "\n",
    "# df['CO'] = df['CO'] * 1000\n",
    "# df['NOx'] = df['NOx'] / 1.91"
   ]
  },
  {
   "cell_type": "markdown",
   "metadata": {},
   "source": [
    "https://uk-air.defra.gov.uk/assets/documents/reports/cat06/0502160851_Conversion_Factors_Between_ppb_and.pdf\n",
    "\n",
    "https://www2.dmu.dk/AtmosphericEnvironment/Expost/database/docs/PPM_conversion.pdf"
   ]
  },
  {
   "cell_type": "code",
   "execution_count": 31,
   "metadata": {},
   "outputs": [
    {
     "output_type": "execute_result",
     "data": {
      "text/plain": "       CO  NMHC       C6H6        NOx    NO2   Temp    Rel_Hum   Abs_Hum\n0  2600.0   150  11.881723  86.910995  113.0  13.60  48.875001  0.757754\n1  2000.0   112   9.397165  53.926702   92.0  13.30  47.700000  0.725487\n2  2200.0    88   8.997817  68.586387  114.0  11.90  53.975000  0.750239\n3  2200.0    80   9.228796  90.052356  122.0  11.00  60.000000  0.786713\n4  1600.0    51   6.518224  68.586387  116.0  11.15  59.575001  0.788794",
      "text/html": "<div>\n<style scoped>\n    .dataframe tbody tr th:only-of-type {\n        vertical-align: middle;\n    }\n\n    .dataframe tbody tr th {\n        vertical-align: top;\n    }\n\n    .dataframe thead th {\n        text-align: right;\n    }\n</style>\n<table border=\"1\" class=\"dataframe\">\n  <thead>\n    <tr style=\"text-align: right;\">\n      <th></th>\n      <th>CO</th>\n      <th>NMHC</th>\n      <th>C6H6</th>\n      <th>NOx</th>\n      <th>NO2</th>\n      <th>Temp</th>\n      <th>Rel_Hum</th>\n      <th>Abs_Hum</th>\n    </tr>\n  </thead>\n  <tbody>\n    <tr>\n      <th>0</th>\n      <td>2600.0</td>\n      <td>150</td>\n      <td>11.881723</td>\n      <td>86.910995</td>\n      <td>113.0</td>\n      <td>13.60</td>\n      <td>48.875001</td>\n      <td>0.757754</td>\n    </tr>\n    <tr>\n      <th>1</th>\n      <td>2000.0</td>\n      <td>112</td>\n      <td>9.397165</td>\n      <td>53.926702</td>\n      <td>92.0</td>\n      <td>13.30</td>\n      <td>47.700000</td>\n      <td>0.725487</td>\n    </tr>\n    <tr>\n      <th>2</th>\n      <td>2200.0</td>\n      <td>88</td>\n      <td>8.997817</td>\n      <td>68.586387</td>\n      <td>114.0</td>\n      <td>11.90</td>\n      <td>53.975000</td>\n      <td>0.750239</td>\n    </tr>\n    <tr>\n      <th>3</th>\n      <td>2200.0</td>\n      <td>80</td>\n      <td>9.228796</td>\n      <td>90.052356</td>\n      <td>122.0</td>\n      <td>11.00</td>\n      <td>60.000000</td>\n      <td>0.786713</td>\n    </tr>\n    <tr>\n      <th>4</th>\n      <td>1600.0</td>\n      <td>51</td>\n      <td>6.518224</td>\n      <td>68.586387</td>\n      <td>116.0</td>\n      <td>11.15</td>\n      <td>59.575001</td>\n      <td>0.788794</td>\n    </tr>\n  </tbody>\n</table>\n</div>"
     },
     "metadata": {},
     "execution_count": 31
    }
   ],
   "source": [
    "df.head()"
   ]
  },
  {
   "cell_type": "code",
   "execution_count": 35,
   "metadata": {},
   "outputs": [],
   "source": [
    "independent_vars = ['CO', 'NMHC', 'C6H6', 'NOx', 'NO2', 'Rel_Hum', 'Abs_Hum']\n",
    "predicative_var = ['Temp']"
   ]
  },
  {
   "cell_type": "code",
   "execution_count": 36,
   "metadata": {},
   "outputs": [],
   "source": [
    "X = df[independent_vars]\n",
    "y = df[predicative_var]"
   ]
  },
  {
   "cell_type": "code",
   "execution_count": 37,
   "metadata": {},
   "outputs": [],
   "source": [
    "train_X, test_X, train_y, test_y = train_test_split(X, y, train_size=0.8, test_size=0.2)"
   ]
  },
  {
   "cell_type": "code",
   "execution_count": 41,
   "metadata": {
    "tags": []
   },
   "outputs": [
    {
     "output_type": "stream",
     "name": "stdout",
     "text": "Mean Squared Error: 0.054\n"
    }
   ],
   "source": [
    "# Fitting/Training\n",
    "XGBModel = XGBRegressor(objective='reg:squarederror', n_estimators=1000, learning_rate=0.05)\n",
    "XGBModel.fit(train_X, train_y)\n",
    "\n",
    "# Inference\n",
    "predictions = XGBModel.predict(test_X)\n",
    "\n",
    "# Accuracy\n",
    "mse = mean_squared_error(test_y, predictions)\n",
    "print(f\"Mean Squared Error: {np.round(mse, 3)}\")"
   ]
  }
 ],
 "metadata": {
  "language_info": {
   "codemirror_mode": {
    "name": "ipython",
    "version": 3
   },
   "file_extension": ".py",
   "mimetype": "text/x-python",
   "name": "python",
   "nbconvert_exporter": "python",
   "pygments_lexer": "ipython3",
   "version": "3.7.7-final"
  },
  "orig_nbformat": 2,
  "kernelspec": {
   "name": "python_defaultSpec_1596502706727",
   "display_name": "Python 3.7.7 64-bit ('ComputerVision': conda)"
  }
 },
 "nbformat": 4,
 "nbformat_minor": 2
}